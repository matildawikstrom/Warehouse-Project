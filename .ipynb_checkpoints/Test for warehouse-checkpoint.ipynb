{
 "cells": [
  {
   "cell_type": "code",
   "execution_count": 2,
   "metadata": {},
   "outputs": [],
   "source": [
    "################################################# Packages/Libraries ##########################################################\n",
    "import matplotlib.pyplot as plt\n",
    "import numpy as np\n"
   ]
  },
  {
   "cell_type": "code",
   "execution_count": 39,
   "metadata": {},
   "outputs": [],
   "source": [
    "warehouseWidth = 850\n",
    "warehouseHeight = 550\n",
    "laneWidth = 50\n",
    "nbrOfAGVs = 6\n",
    "speed = 5\n",
    "AGVRadius = 12.5\n",
    "chargingRate = 0.05\n",
    "consumingRate = 0.005\n",
    "thresholdPower = 3.5\n",
    "fullyCharged = 10\n",
    "nNodesx = 6\n",
    "nNodesy = 3 \n"
   ]
  },
  {
   "cell_type": "code",
   "execution_count": 45,
   "metadata": {},
   "outputs": [
    {
     "name": "stdout",
     "output_type": "stream",
     "text": [
      "[(25, 475), (185, 475), (345, 475), (505, 475), (665, 475), (825, 475), (25, 250), (185, 250), (345, 250), (505, 250), (665, 250), (825, 250), (25, 25), (185, 25), (345, 25), (505, 25), (665, 25), (825, 25)]\n"
     ]
    }
   ],
   "source": [
    "nodes = []\n",
    "\n",
    "for n in range(nNodesy):\n",
    "    xPos = np.linspace(laneWidth/2, warehouseWidth - laneWidth/2, nNodesx)\n",
    "    for i in range(len(xPos)):\n",
    "        pos = (np.int(xPos[i]), warehouseHeight - 75 - np.int(n * (warehouseHeight-100)/(nNodesy-1)))\n",
    "        nodes.append(pos)\n",
    "\n",
    "print(nodes)\n",
    "#plt.plot(nodes[:,0],nodes[:,1], 'o')\n"
   ]
  },
  {
   "cell_type": "code",
   "execution_count": null,
   "metadata": {},
   "outputs": [],
   "source": [
    "goals = [25, 50, 75, 100,125, 150]\n",
    "layout1 = [887.8, 1923.8, 2752.0, 3670.2, 4538.0, 5324.2]\n",
    "layout2 = [1094.6, 2133.8, 3036.4, 4013.8, 5019.8, 5870.2]\n",
    "layout3 = [1213.4, 2297.6, 3149.6, 4058.0, 5178.0, 6126.2]\n",
    "layout4 = [1193.8, 2072.0, 3217.0, 3932.0, 5017.4, 5943.0]\n",
    "\n",
    "\n",
    "plt.figure()\n",
    "plt.plot(goals, layout1, 'r.-', label='layout 1')\n",
    "plt.plot(goals, layout2, 'b.-', label='layout 2')\n",
    "plt.plot(goals, layout3, 'k.-', label='layout 3')\n",
    "plt.plot(goals, layout4, 'g.-', label='layout 4')\n",
    "plt.xlabel('Number of Tasks')\n",
    "plt.ylabel('Time')\n",
    "plt.legend()\n",
    "plt.show()"
   ]
  },
  {
   "cell_type": "code",
   "execution_count": null,
   "metadata": {},
   "outputs": [],
   "source": []
  }
 ],
 "metadata": {
  "kernelspec": {
   "display_name": "Python 3",
   "language": "python",
   "name": "python3"
  },
  "language_info": {
   "codemirror_mode": {
    "name": "ipython",
    "version": 3
   },
   "file_extension": ".py",
   "mimetype": "text/x-python",
   "name": "python",
   "nbconvert_exporter": "python",
   "pygments_lexer": "ipython3",
   "version": "3.6.4"
  }
 },
 "nbformat": 4,
 "nbformat_minor": 1
}
